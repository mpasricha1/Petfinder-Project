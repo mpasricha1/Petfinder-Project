{
 "cells": [
  {
   "cell_type": "code",
   "execution_count": 1,
   "metadata": {},
   "outputs": [],
   "source": [
    "from sklearn.model_selection import train_test_split\n",
    "from sklearn.neighbors import KNeighborsClassifier\n",
    "from sklearn import tree\n",
    "import pandas as pd\n",
    "import os"
   ]
  },
  {
   "cell_type": "code",
   "execution_count": 20,
   "metadata": {},
   "outputs": [],
   "source": [
    "df = pd.read_csv(os.path.join(\"train_80.csv\"))"
   ]
  },
  {
   "cell_type": "code",
   "execution_count": 21,
   "metadata": {},
   "outputs": [],
   "source": [
    "#Dropping Cats to create Dogs Only DF\n",
    "cats = df[ df['Type'] == 2 ].index \n",
    "df.drop(cats, inplace = True) \n",
    "\n",
    "# target_names = [\"0\", \"1\", \"2\", \"3\", \"4\"]"
   ]
  },
  {
   "cell_type": "markdown",
   "metadata": {},
   "source": [
    "# Model 1 - Drooping only non-rellevant features"
   ]
  },
  {
   "cell_type": "code",
   "execution_count": 15,
   "metadata": {},
   "outputs": [
    {
     "data": {
      "text/plain": [
       "Index(['Type', 'Age', 'Breed1', 'Breed2', 'Gender', 'Color1', 'Color2',\n",
       "       'Color3', 'MaturitySize', 'FurLength', 'Vaccinated', 'Dewormed',\n",
       "       'Sterilized', 'Health', 'Quantity', 'Fee', 'VideoAmt', 'PhotoAmt'],\n",
       "      dtype='object')"
      ]
     },
     "execution_count": 15,
     "metadata": {},
     "output_type": "execute_result"
    }
   ],
   "source": [
    "##  0.42252828332513526\n",
    "## Feature Importances for Model #1\n",
    "# [(0.15533576880539549, 'PhotoAmt'),\n",
    "#  (0.14887221977378745, 'Age'),\n",
    "#  (0.08438522119828953, 'Color1'),\n",
    "#  (0.08379917545589577, 'Color2'),\n",
    "#  (0.06622601899106081, 'Breed1'),\n",
    "#  (0.05731416792200449, 'Breed2'),\n",
    "#  (0.0500279574029042, 'FurLength'),\n",
    "#  (0.04531494009240618, 'Gender'),\n",
    "#  (0.044238543370635874, 'MaturitySize'),\n",
    "#  (0.04275301261001945, 'Fee'),\n",
    "#  (0.04157948184699259, 'Quantity'),\n",
    "#  (0.0397734368835814, 'Color3'),\n",
    "#  (0.038599461158944415, 'Vaccinated'),\n",
    "#  (0.03798794173135271, 'Dewormed'),\n",
    "#  (0.037795887491963054, 'Sterilized'),\n",
    "#  (0.01369537809057216, 'VideoAmt'),\n",
    "#  (0.012301387174194461, 'Health'),\n",
    "#  (0.0, 'Type')]\n",
    "\n",
    "target = df[\"AdoptionSpeed\"]\n",
    "\n",
    "data = df[['Type', 'Age', 'Breed1', 'Breed2', 'Gender', 'Color1', 'Color2', 'Color3','MaturitySize', 'FurLength', 'Vaccinated', 'Dewormed', 'Sterilized', 'Health', 'Quantity', 'Fee', 'VideoAmt', 'PhotoAmt']]\n",
    "feature_names = data.columns\n",
    "feature_names"
   ]
  },
  {
   "cell_type": "markdown",
   "metadata": {},
   "source": [
    "# Model #2 - Dropping Breed 2, Color 2&3, Qty"
   ]
  },
  {
   "cell_type": "code",
   "execution_count": 22,
   "metadata": {},
   "outputs": [
    {
     "data": {
      "text/plain": [
       "Index(['Type', 'Age', 'Breed1', 'Gender', 'Color1', 'MaturitySize',\n",
       "       'FurLength', 'Vaccinated', 'Dewormed', 'Sterilized', 'Health',\n",
       "       'Quantity', 'Fee', 'VideoAmt', 'PhotoAmt'],\n",
       "      dtype='object')"
      ]
     },
     "execution_count": 22,
     "metadata": {},
     "output_type": "execute_result"
    }
   ],
   "source": [
    "## 0.4072798819478603\n",
    "## Feature Importances for Model #2\n",
    "# [(0.1908938560460079, 'PhotoAmt'),\n",
    "#  (0.18904795012159828, 'Age'),\n",
    "#  (0.11060660253707442, 'Color1'),\n",
    "#  (0.0865755191065923, 'Breed1'),\n",
    "#  (0.05569484265846106, 'FurLength'),\n",
    "#  (0.05489862317889926, 'MaturitySize'),\n",
    "#  (0.054420248894961894, 'Quantity'),\n",
    "#  (0.052378037048901344, 'Fee'),\n",
    "#  (0.05041298033498242, 'Gender'),\n",
    "#  (0.0434729161541585, 'Sterilized'),\n",
    "#  (0.03979007162897429, 'Vaccinated'),\n",
    "#  (0.039732705658861514, 'Dewormed'),\n",
    "#  (0.016851000006717468, 'VideoAmt'),\n",
    "#  (0.015224646623809282, 'Health'),\n",
    "#  (0.0, 'Type')]\n",
    "\n",
    "target = df[\"AdoptionSpeed\"]\n",
    "\n",
    "data = df[['Type', 'Age', 'Breed1', 'Gender', 'Color1', 'MaturitySize', 'FurLength', 'Vaccinated', 'Dewormed', 'Sterilized', 'Health', 'Quantity', 'Fee', 'VideoAmt', 'PhotoAmt']]\n",
    "feature_names = data.columns\n",
    "feature_names"
   ]
  },
  {
   "cell_type": "code",
   "execution_count": 23,
   "metadata": {},
   "outputs": [],
   "source": [
    "X_train, X_test, y_train, y_test = train_test_split(data, target, random_state=42)"
   ]
  },
  {
   "cell_type": "code",
   "execution_count": 24,
   "metadata": {},
   "outputs": [
    {
     "data": {
      "text/plain": [
       "0.35071323167732416"
      ]
     },
     "execution_count": 24,
     "metadata": {},
     "output_type": "execute_result"
    }
   ],
   "source": [
    "clf = tree.DecisionTreeClassifier()\n",
    "clf = clf.fit(X_train, y_train)\n",
    "clf.score(X_test, y_test)"
   ]
  },
  {
   "cell_type": "code",
   "execution_count": 25,
   "metadata": {},
   "outputs": [
    {
     "data": {
      "text/plain": [
       "0.4072798819478603"
      ]
     },
     "execution_count": 25,
     "metadata": {},
     "output_type": "execute_result"
    }
   ],
   "source": [
    "from sklearn.ensemble import RandomForestClassifier\n",
    "rf = RandomForestClassifier(n_estimators=200)\n",
    "rf = rf.fit(X_train, y_train)\n",
    "rf.score(X_test, y_test)"
   ]
  },
  {
   "cell_type": "code",
   "execution_count": 26,
   "metadata": {},
   "outputs": [
    {
     "data": {
      "text/plain": [
       "[(0.1908938560460079, 'PhotoAmt'),\n",
       " (0.18904795012159828, 'Age'),\n",
       " (0.11060660253707442, 'Color1'),\n",
       " (0.0865755191065923, 'Breed1'),\n",
       " (0.05569484265846106, 'FurLength'),\n",
       " (0.05489862317889926, 'MaturitySize'),\n",
       " (0.054420248894961894, 'Quantity'),\n",
       " (0.052378037048901344, 'Fee'),\n",
       " (0.05041298033498242, 'Gender'),\n",
       " (0.0434729161541585, 'Sterilized'),\n",
       " (0.03979007162897429, 'Vaccinated'),\n",
       " (0.039732705658861514, 'Dewormed'),\n",
       " (0.016851000006717468, 'VideoAmt'),\n",
       " (0.015224646623809282, 'Health'),\n",
       " (0.0, 'Type')]"
      ]
     },
     "execution_count": 26,
     "metadata": {},
     "output_type": "execute_result"
    }
   ],
   "source": [
    "sorted(zip(rf.feature_importances_, feature_names), reverse=True)"
   ]
  }
 ],
 "metadata": {
  "kernelspec": {
   "display_name": "Python [conda env:PythonData] *",
   "language": "python",
   "name": "conda-env-PythonData-py"
  },
  "language_info": {
   "codemirror_mode": {
    "name": "ipython",
    "version": 3
   },
   "file_extension": ".py",
   "mimetype": "text/x-python",
   "name": "python",
   "nbconvert_exporter": "python",
   "pygments_lexer": "ipython3",
   "version": "3.6.10"
  }
 },
 "nbformat": 4,
 "nbformat_minor": 4
}
