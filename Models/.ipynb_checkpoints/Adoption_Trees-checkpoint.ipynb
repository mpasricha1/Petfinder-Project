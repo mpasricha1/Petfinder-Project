{
 "cells": [
  {
   "cell_type": "code",
   "execution_count": 14,
   "metadata": {},
   "outputs": [],
   "source": [
    "import matplotlib.pyplot as plt\n",
    "from sklearn.model_selection import train_test_split\n",
    "from sklearn.neighbors import KNeighborsClassifier\n",
    "from sklearn import tree\n",
    "import pandas as pd\n",
    "import os"
   ]
  },
  {
   "cell_type": "code",
   "execution_count": 42,
   "metadata": {},
   "outputs": [],
   "source": [
    "df = pd.read_csv(os.path.join(\"train_80.csv\"))"
   ]
  },
  {
   "cell_type": "code",
   "execution_count": 43,
   "metadata": {},
   "outputs": [],
   "source": [
    "target = df[\"AdoptionSpeed\"]\n",
    "target_names = [\"0\", \"1\", \"2\", \"3\", \"4\"]"
   ]
  },
  {
   "cell_type": "code",
   "execution_count": 44,
   "metadata": {},
   "outputs": [
    {
     "data": {
      "text/plain": [
       "Index(['Type', 'Age', 'Breed1', 'Breed2', 'Gender', 'Color1', 'Color2',\n",
       "       'Color3', 'MaturitySize', 'FurLength', 'Vaccinated', 'Dewormed',\n",
       "       'Sterilized', 'Health', 'Quantity', 'Fee', 'VideoAmt', 'PhotoAmt'],\n",
       "      dtype='object')"
      ]
     },
     "execution_count": 44,
     "metadata": {},
     "output_type": "execute_result"
    }
   ],
   "source": [
    "# Model 1\n",
    "##  0.40090690850893573\n",
    "## Feature Importances for Model #1\n",
    "# [(0.14741186964735833, 'PhotoAmt'),\n",
    "#  (0.1384766037034141, 'Age'),\n",
    "#  (0.08720990747064314, 'Color2'),\n",
    "#  (0.08619369519743096, 'Color1'),\n",
    "#  (0.07978128044193844, 'Breed1'),\n",
    "#  (0.05670749658762525, 'Breed2'),\n",
    "#  (0.04668041534450266, 'Gender'),\n",
    "#  (0.04610776610487081, 'FurLength'),\n",
    "#  (0.044909854872647516, 'Quantity'),\n",
    "#  (0.0435481770743158, 'MaturitySize'),\n",
    "#  (0.04310818288981375, 'Fee'),\n",
    "#  (0.04267356603221559, 'Color3'),\n",
    "#  (0.03709335544122785, 'Dewormed'),\n",
    "#  (0.034460276487706214, 'Vaccinated'),\n",
    "#  (0.03262714745250069, 'Sterilized'),\n",
    "#  (0.012845234338030878, 'VideoAmt'),\n",
    "#  (0.010980521552933506, 'Health'),\n",
    "#  (0.00918464936082452, 'Type')]\n",
    "\n",
    "\n",
    "data = df.drop(\"AdoptionSpeed\", axis=1)\n",
    "data = df.drop(\"id\", axis=1)\n",
    "data = df[['Type', 'Age', 'Breed1', 'Breed2', 'Gender', 'Color1', 'Color2', 'Color3','MaturitySize', 'FurLength', 'Vaccinated', 'Dewormed', 'Sterilized', 'Health', 'Quantity', 'Fee', 'VideoAmt', 'PhotoAmt']]\n",
    "feature_names = data.columns\n",
    "feature_names"
   ]
  },
  {
   "cell_type": "code",
   "execution_count": 37,
   "metadata": {},
   "outputs": [
    {
     "data": {
      "text/plain": [
       "Index(['Type', 'Age', 'Breed1', 'Gender', 'Color1', 'MaturitySize',\n",
       "       'FurLength', 'Vaccinated', 'Dewormed', 'Sterilized', 'Health',\n",
       "       'Quantity', 'Fee', 'VideoAmt', 'PhotoAmt'],\n",
       "      dtype='object')"
      ]
     },
     "execution_count": 37,
     "metadata": {},
     "output_type": "execute_result"
    }
   ],
   "source": [
    "# Model #2 - Dropping Breed 2, Color 2&3, Qty\n",
    "## 0.3827687383302214\n",
    "## Feature Importances for Model #2\n",
    "# [(0.1851127859438104, 'PhotoAmt'),\n",
    "#  (0.17303476837477924, 'Age'),\n",
    "#  (0.11160736346534532, 'Color1'),\n",
    "#  (0.10469342886038506, 'Breed1'),\n",
    "#  (0.05693228924533239, 'Quantity'),\n",
    "#  (0.05495303343972303, 'Fee'),\n",
    "#  (0.05311417810421487, 'Gender'),\n",
    "#  (0.05277553829121136, 'FurLength'),\n",
    "#  (0.05205684980546232, 'MaturitySize'),\n",
    "#  (0.0406938562897377, 'Dewormed'),\n",
    "#  (0.03747695256321231, 'Sterilized'),\n",
    "#  (0.03696892807479126, 'Vaccinated'),\n",
    "#  (0.01588617418813452, 'VideoAmt'),\n",
    "#  (0.01339899824528844, 'Health'),\n",
    "#  (0.011294855108571793, 'Type')]\n",
    "\n",
    "data = df.drop(\"AdoptionSpeed\", axis=1)\n",
    "data = df.drop(\"id\", axis=1)\n",
    "data = df[['Type', 'Age', 'Breed1', 'Gender', 'Color1', 'MaturitySize', 'FurLength', 'Vaccinated', 'Dewormed', 'Sterilized', 'Health', 'Quantity', 'Fee', 'VideoAmt', 'PhotoAmt']]\n",
    "feature_names = data.columns\n",
    "feature_names"
   ]
  },
  {
   "cell_type": "code",
   "execution_count": 45,
   "metadata": {},
   "outputs": [],
   "source": [
    "X_train, X_test, y_train, y_test = train_test_split(data, target, random_state=42)"
   ]
  },
  {
   "cell_type": "code",
   "execution_count": 46,
   "metadata": {},
   "outputs": [
    {
     "data": {
      "text/plain": [
       "0.31688450253400907"
      ]
     },
     "execution_count": 46,
     "metadata": {},
     "output_type": "execute_result"
    }
   ],
   "source": [
    "clf = tree.DecisionTreeClassifier()\n",
    "clf = clf.fit(X_train, y_train)\n",
    "clf.score(X_test, y_test)"
   ]
  },
  {
   "cell_type": "code",
   "execution_count": 47,
   "metadata": {},
   "outputs": [
    {
     "data": {
      "text/plain": [
       "0.39210456121632437"
      ]
     },
     "execution_count": 47,
     "metadata": {},
     "output_type": "execute_result"
    }
   ],
   "source": [
    "from sklearn.ensemble import RandomForestClassifier\n",
    "rf = RandomForestClassifier(n_estimators=200)\n",
    "rf = rf.fit(X_train, y_train)\n",
    "rf.score(X_test, y_test)"
   ]
  },
  {
   "cell_type": "code",
   "execution_count": 48,
   "metadata": {},
   "outputs": [
    {
     "data": {
      "text/plain": [
       "[(0.14741186964735833, 'PhotoAmt'),\n",
       " (0.1384766037034141, 'Age'),\n",
       " (0.08720990747064314, 'Color2'),\n",
       " (0.08619369519743096, 'Color1'),\n",
       " (0.07978128044193844, 'Breed1'),\n",
       " (0.05670749658762525, 'Breed2'),\n",
       " (0.04668041534450266, 'Gender'),\n",
       " (0.04610776610487081, 'FurLength'),\n",
       " (0.044909854872647516, 'Quantity'),\n",
       " (0.0435481770743158, 'MaturitySize'),\n",
       " (0.04310818288981375, 'Fee'),\n",
       " (0.04267356603221559, 'Color3'),\n",
       " (0.03709335544122785, 'Dewormed'),\n",
       " (0.034460276487706214, 'Vaccinated'),\n",
       " (0.03262714745250069, 'Sterilized'),\n",
       " (0.012845234338030878, 'VideoAmt'),\n",
       " (0.010980521552933506, 'Health'),\n",
       " (0.00918464936082452, 'Type')]"
      ]
     },
     "execution_count": 48,
     "metadata": {},
     "output_type": "execute_result"
    }
   ],
   "source": [
    "sorted(zip(rf.feature_importances_, feature_names), reverse=True)"
   ]
  }
 ],
 "metadata": {
  "kernelspec": {
   "display_name": "Python 3",
   "language": "python",
   "name": "python3"
  },
  "language_info": {
   "codemirror_mode": {
    "name": "ipython",
    "version": 3
   },
   "file_extension": ".py",
   "mimetype": "text/x-python",
   "name": "python",
   "nbconvert_exporter": "python",
   "pygments_lexer": "ipython3",
   "version": "3.7.4"
  }
 },
 "nbformat": 4,
 "nbformat_minor": 4
}
